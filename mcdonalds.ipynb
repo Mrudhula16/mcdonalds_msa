{
  "metadata": {
    "language_info": {
      "codemirror_mode": {
        "name": "python",
        "version": 3
      },
      "file_extension": ".py",
      "mimetype": "text/x-python",
      "name": "python",
      "nbconvert_exporter": "python",
      "pygments_lexer": "ipython3",
      "version": "3.8"
    },
    "kernelspec": {
      "name": "python",
      "display_name": "Python (Pyodide)",
      "language": "python"
    }
  },
  "nbformat_minor": 4,
  "nbformat": 4,
  "cells": [
    {
      "cell_type": "code",
      "source": "import pandas as pd\ndata=pd.read_csv('C:\\Users\\vgnvj\\Desktop\\mcdonalds_msa')\nprint(data)\ndata.head()\nimport numpy as np \nimport numpy as np # linear algebra\nimport pandas as pd #\n\n#data visualization\n",
      "metadata": {
        "trusted": true
      },
      "execution_count": 3,
      "outputs": [
        {
          "ename": "<class 'SyntaxError'>",
          "evalue": "(unicode error) 'unicodeescape' codec can't decode bytes in position 2-3: truncated \\UXXXXXXXX escape (<ipython-input-3-f98418ad75c5>, line 2)",
          "traceback": [
            "\u001b[0;36m  Input \u001b[0;32mIn [3]\u001b[0;36m\u001b[0m\n\u001b[0;31m    data=pd.read_csv('C:\\Users\\vgnvj\\Desktop\\mcdonalds_msa')\u001b[0m\n\u001b[0m                                                           ^\u001b[0m\n\u001b[0;31mSyntaxError\u001b[0m\u001b[0;31m:\u001b[0m (unicode error) 'unicodeescape' codec can't decode bytes in position 2-3: truncated \\UXXXXXXXX escape\n"
          ],
          "output_type": "error"
        }
      ]
    },
    {
      "cell_type": "code",
      "source": "import matplotlib.pyplot as plt\n\n\n#clustering model library\nfrom sklearn.cluster import KMeans\nfrom scipy.cluster.hierarchy import linkage, dendrogram\nfrom sklearn.cluster import AgglomerativeClustering\n\nimport os\ndata.describe()\ndata.corr()\nplt.figure(figsize=(20,7))\nGender = ['Male', 'Female']\nfor i in Gender:\n    plt.scatter(x='age',y='VisitFrequency', data=data[data['Gender']==i],s = 200 , alpha = 0.5 , label = i)\nplt.legend()\nplt.xlabel(\"age\")\nplt.ylabel(\"VisitFrequncy\")\nplt.title(\"visit frequency depening on age\")\nplt.show()\n\n",
      "metadata": {},
      "execution_count": null,
      "outputs": []
    },
    {
      "cell_type": "code",
      "source": "#age barchart\nplt.figure(figsize=(20,10))\nsns.countplot(data.Age)\nplt.xlabel(\"Age\")\nplt.ylabel(\"Person Count\")\nplt.show()\n\n#piechart for taste of mcd\nlabels = ['No','Yes']\nsizes = [data.query('tasty == \"Yes\"').tasty.count(),data.query('tasty' == \"no\").tasty.count()]\n\ncolors = ['#ffdaB9','#66b3ff']\n#explsion\nexplode = (0.05,0.05)\nplt.figure(figsize=(8,8)) \nmy_circle=plt.Circle( (0,0), 0.7, color='white')\nplt.pie(sizes, colors = colors, labels=labels, autopct='%1.1f%%', startangle=90, pctdistance=0.85,explode=explode)\np=plt.gcf()\nplt.axis('equal')\np.gca().add_artist(my_circle)\nplt.show()",
      "metadata": {},
      "execution_count": null,
      "outputs": []
    }
  ]
}